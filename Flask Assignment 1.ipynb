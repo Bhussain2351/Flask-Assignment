{
 "cells": [
  {
   "cell_type": "code",
   "execution_count": null,
   "id": "fd1c8c71-b14a-47e5-ad3d-8fa59641df0e",
   "metadata": {},
   "outputs": [],
   "source": [
    "#1.Ans\n",
    "\n",
    "# Flask is a micro web framework written in Python. It is classified as a microframework because it does not require particular tools or libraries.[2] \n",
    "# It has no database abstraction layer, form validation, or any other components where pre-existing third-party libraries provide common functions. However,\n",
    "# Flask supports extensions that can add application features as if they were implemented in Flask itself. Extensions exist for object-relational mappers,\n",
    "# form validation, upload handling, \n",
    "# various open authentication technologies and several common framework related tools.[3]\n",
    "\n",
    "# Advantages of using Flask framework are:\n",
    "# There is a built-in development server and a fast debugger provided.\n",
    "# Lightweight.\n",
    "# Support Secure cookies.\n",
    "# Templating using Jinja2.\n",
    "# Request dispatching using REST.\n",
    "# Support for unit testing is built-in."
   ]
  },
  {
   "cell_type": "code",
   "execution_count": null,
   "id": "1fd5d623-a12d-4721-a236-b2bad3af402a",
   "metadata": {},
   "outputs": [],
   "source": [
    "#2 Ans\n",
    "\n",
    "# App routing is the technique used to map the specific URL with the associated function intended to perform some task. \n",
    "# The Latest Web frameworks use the routing technique to help users remember application URLs. \n",
    "# It is helpful to access the desired page directly without navigating from the home page"
   ]
  },
  {
   "cell_type": "code",
   "execution_count": 1,
   "id": "695cf9ee-4cc7-4cab-97c7-434e0788c9b5",
   "metadata": {},
   "outputs": [],
   "source": [
    "#5 Ans\n",
    "\n",
    "# The url_for() method, is used to prepare a URL, for a function dynamically, such that, \n",
    "# changing URLs, in the application, is avoided. It accepts, the name of the view function, as the first argument,\n",
    "# and, any number of keywords, to be sent(to the view function), as the second argument."
   ]
  },
  {
   "cell_type": "code",
   "execution_count": null,
   "id": "e2c87f07-9250-4992-b989-b1c485c1aaf9",
   "metadata": {},
   "outputs": [],
   "source": [
    "# from flask import Flask, redirect,url_for\n",
    "# app = Flask(__name__)\n",
    "\n",
    "# @app.route(\"/admin\")\n",
    "# def hello_admin():\n",
    "#     return \"<h1>Hello, Admin!</h1>\"\n",
    "# @app.route(\"/guest/<guest>\")\n",
    "# def hello_guest(guest):\n",
    "#     return \"<h1> Hello %s as Guest </h1>\" % guest\n",
    "# @app.route(\"/user/<name>\")\n",
    "# def hello_user(name):\n",
    "#     if name==\"admin\":\n",
    "#         return redirect(url_for(\"hello_admin\"))\n",
    "#     else:\n",
    "#         return redirect(url_for(\"hello_guest\",guest=name))\n",
    "\n",
    "# if __name__==\"__main__\":\n",
    "#     app.run(host=\"0.0.0.0\")\n"
   ]
  }
 ],
 "metadata": {
  "kernelspec": {
   "display_name": "Python 3 (ipykernel)",
   "language": "python",
   "name": "python3"
  },
  "language_info": {
   "codemirror_mode": {
    "name": "ipython",
    "version": 3
   },
   "file_extension": ".py",
   "mimetype": "text/x-python",
   "name": "python",
   "nbconvert_exporter": "python",
   "pygments_lexer": "ipython3",
   "version": "3.10.8"
  }
 },
 "nbformat": 4,
 "nbformat_minor": 5
}
